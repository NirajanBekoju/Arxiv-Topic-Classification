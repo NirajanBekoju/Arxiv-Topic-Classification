{
 "cells": [
  {
   "cell_type": "code",
   "execution_count": null,
   "metadata": {
    "colab": {
     "base_uri": "https://localhost:8080/"
    },
    "executionInfo": {
     "elapsed": 21552,
     "status": "ok",
     "timestamp": 1689300434522,
     "user": {
      "displayName": "NIRAJAN BEKOJU",
      "userId": "11594644661999833156"
     },
     "user_tz": -345
    },
    "id": "O9tcVu44JZdF",
    "outputId": "797b7bd4-7b94-43a5-a1ab-0fab57627d10"
   },
   "outputs": [],
   "source": [
    "# from google.colab import drive\n",
    "# drive.mount('/content/drive')"
   ]
  },
  {
   "cell_type": "code",
   "execution_count": 1,
   "metadata": {
    "executionInfo": {
     "elapsed": 2508,
     "status": "ok",
     "timestamp": 1689300437021,
     "user": {
      "displayName": "NIRAJAN BEKOJU",
      "userId": "11594644661999833156"
     },
     "user_tz": -345
    },
    "id": "l49oZ6Q4Jo9r"
   },
   "outputs": [],
   "source": [
    "import re\n",
    "import pandas as pd\n",
    "import matplotlib.pyplot as plt\n",
    "import seaborn as sns\n",
    "%matplotlib inline"
   ]
  },
  {
   "cell_type": "code",
   "execution_count": 2,
   "metadata": {
    "executionInfo": {
     "elapsed": 6,
     "status": "ok",
     "timestamp": 1689300531611,
     "user": {
      "displayName": "NIRAJAN BEKOJU",
      "userId": "11594644661999833156"
     },
     "user_tz": -345
    },
    "id": "3dBnXxmiKDbE"
   },
   "outputs": [],
   "source": [
    "# FILE_PATH = \"/content/drive/MyDrive/Colab Notebooks/Arxiv Topic Classification/\"\n",
    "FILE_PATH = \"\""
   ]
  },
  {
   "cell_type": "markdown",
   "metadata": {},
   "source": [
    "## Convert deduplicated text into training data for preprocessing"
   ]
  },
  {
   "cell_type": "code",
   "execution_count": 29,
   "metadata": {
    "executionInfo": {
     "elapsed": 65419,
     "status": "ok",
     "timestamp": 1689300527997,
     "user": {
      "displayName": "NIRAJAN BEKOJU",
      "userId": "11594644661999833156"
     },
     "user_tz": -345
    },
    "id": "2M14m6cVJqo_"
   },
   "outputs": [],
   "source": [
    "deduplicated_arxiv = pd.read_csv(\"deduplicated_arxiv.csv\")"
   ]
  },
  {
   "cell_type": "code",
   "execution_count": 30,
   "metadata": {
    "colab": {
     "base_uri": "https://localhost:8080/"
    },
    "executionInfo": {
     "elapsed": 20,
     "status": "ok",
     "timestamp": 1689300529011,
     "user": {
      "displayName": "NIRAJAN BEKOJU",
      "userId": "11594644661999833156"
     },
     "user_tz": -345
    },
    "id": "WI25XKrrJ2Ya",
    "outputId": "14bc9b3e-4d49-4373-ee4a-83859f8868e7"
   },
   "outputs": [
    {
     "name": "stdout",
     "output_type": "stream",
     "text": [
      "<class 'pandas.core.frame.DataFrame'>\n",
      "RangeIndex: 2276449 entries, 0 to 2276448\n",
      "Data columns (total 5 columns):\n",
      " #   Column      Dtype \n",
      "---  ------      ----- \n",
      " 0   title       object\n",
      " 1   authors     object\n",
      " 2   date        object\n",
      " 3   abstract    object\n",
      " 4   categories  object\n",
      "dtypes: object(5)\n",
      "memory usage: 86.8+ MB\n"
     ]
    }
   ],
   "source": [
    "deduplicated_arxiv.info()"
   ]
  },
  {
   "cell_type": "code",
   "execution_count": 31,
   "metadata": {
    "colab": {
     "base_uri": "https://localhost:8080/",
     "height": 206
    },
    "executionInfo": {
     "elapsed": 50,
     "status": "ok",
     "timestamp": 1689300540148,
     "user": {
      "displayName": "NIRAJAN BEKOJU",
      "userId": "11594644661999833156"
     },
     "user_tz": -345
    },
    "id": "rY-qGsiiJ5HS",
    "outputId": "7dc76235-7a51-40b9-9f76-b9bac343e1c0"
   },
   "outputs": [
    {
     "data": {
      "text/html": [
       "<div>\n",
       "<style scoped>\n",
       "    .dataframe tbody tr th:only-of-type {\n",
       "        vertical-align: middle;\n",
       "    }\n",
       "\n",
       "    .dataframe tbody tr th {\n",
       "        vertical-align: top;\n",
       "    }\n",
       "\n",
       "    .dataframe thead th {\n",
       "        text-align: right;\n",
       "    }\n",
       "</style>\n",
       "<table border=\"1\" class=\"dataframe\">\n",
       "  <thead>\n",
       "    <tr style=\"text-align: right;\">\n",
       "      <th></th>\n",
       "      <th>title</th>\n",
       "      <th>authors</th>\n",
       "      <th>date</th>\n",
       "      <th>abstract</th>\n",
       "      <th>categories</th>\n",
       "    </tr>\n",
       "  </thead>\n",
       "  <tbody>\n",
       "    <tr>\n",
       "      <th>0</th>\n",
       "      <td>Calculation of prompt diphoton production cros...</td>\n",
       "      <td>C. Bal\\'azs, E. L. Berger, P. M. Nadolsky, C.-...</td>\n",
       "      <td>2008-11-26</td>\n",
       "      <td>A fully differential calculation in perturba...</td>\n",
       "      <td>hep-ph</td>\n",
       "    </tr>\n",
       "    <tr>\n",
       "      <th>1</th>\n",
       "      <td>Sparsity-certifying Graph Decompositions</td>\n",
       "      <td>Ileana Streinu and Louis Theran</td>\n",
       "      <td>2008-12-13</td>\n",
       "      <td>We describe a new algorithm, the $(k,\\ell)$-...</td>\n",
       "      <td>math.CO cs.CG</td>\n",
       "    </tr>\n",
       "    <tr>\n",
       "      <th>2</th>\n",
       "      <td>The evolution of the Earth-Moon system based o...</td>\n",
       "      <td>Hongjun Pan</td>\n",
       "      <td>2008-01-13</td>\n",
       "      <td>The evolution of Earth-Moon system is descri...</td>\n",
       "      <td>physics.gen-ph</td>\n",
       "    </tr>\n",
       "    <tr>\n",
       "      <th>3</th>\n",
       "      <td>A determinant of Stirling cycle numbers counts...</td>\n",
       "      <td>David Callan</td>\n",
       "      <td>2007-05-23</td>\n",
       "      <td>We show that a determinant of Stirling cycle...</td>\n",
       "      <td>math.CO</td>\n",
       "    </tr>\n",
       "    <tr>\n",
       "      <th>4</th>\n",
       "      <td>From dyadic $\\Lambda_{\\alpha}$ to $\\Lambda_{\\a...</td>\n",
       "      <td>Wael Abu-Shammala and Alberto Torchinsky</td>\n",
       "      <td>2013-10-15</td>\n",
       "      <td>In this paper we show how to compute the $\\L...</td>\n",
       "      <td>math.CA math.FA</td>\n",
       "    </tr>\n",
       "  </tbody>\n",
       "</table>\n",
       "</div>"
      ],
      "text/plain": [
       "                                               title   \n",
       "0  Calculation of prompt diphoton production cros...  \\\n",
       "1           Sparsity-certifying Graph Decompositions   \n",
       "2  The evolution of the Earth-Moon system based o...   \n",
       "3  A determinant of Stirling cycle numbers counts...   \n",
       "4  From dyadic $\\Lambda_{\\alpha}$ to $\\Lambda_{\\a...   \n",
       "\n",
       "                                             authors        date   \n",
       "0  C. Bal\\'azs, E. L. Berger, P. M. Nadolsky, C.-...  2008-11-26  \\\n",
       "1                    Ileana Streinu and Louis Theran  2008-12-13   \n",
       "2                                        Hongjun Pan  2008-01-13   \n",
       "3                                       David Callan  2007-05-23   \n",
       "4           Wael Abu-Shammala and Alberto Torchinsky  2013-10-15   \n",
       "\n",
       "                                            abstract       categories  \n",
       "0    A fully differential calculation in perturba...           hep-ph  \n",
       "1    We describe a new algorithm, the $(k,\\ell)$-...    math.CO cs.CG  \n",
       "2    The evolution of Earth-Moon system is descri...   physics.gen-ph  \n",
       "3    We show that a determinant of Stirling cycle...          math.CO  \n",
       "4    In this paper we show how to compute the $\\L...  math.CA math.FA  "
      ]
     },
     "execution_count": 31,
     "metadata": {},
     "output_type": "execute_result"
    }
   ],
   "source": [
    "deduplicated_arxiv.head()"
   ]
  },
  {
   "cell_type": "code",
   "execution_count": null,
   "metadata": {
    "executionInfo": {
     "elapsed": 2651,
     "status": "ok",
     "timestamp": 1689300681034,
     "user": {
      "displayName": "NIRAJAN BEKOJU",
      "userId": "11594644661999833156"
     },
     "user_tz": -345
    },
    "id": "57IAPbmrKOEX"
   },
   "outputs": [],
   "source": [
    "# convert the categories into tuple of categories\n",
    "df[\"categories\"] = df[\"categories\"].apply(lambda categories : tuple(categories.split()))\n",
    "\n",
    "df[\"num_categories\"] = df[\"categories\"].apply(lambda x : len(x))"
   ]
  },
  {
   "cell_type": "code",
   "execution_count": null,
   "metadata": {
    "colab": {
     "base_uri": "https://localhost:8080/",
     "height": 206
    },
    "executionInfo": {
     "elapsed": 427,
     "status": "ok",
     "timestamp": 1689300690061,
     "user": {
      "displayName": "NIRAJAN BEKOJU",
      "userId": "11594644661999833156"
     },
     "user_tz": -345
    },
    "id": "VnewVuA1KrFq",
    "outputId": "b120f206-5e91-417a-9761-3089da515b47"
   },
   "outputs": [],
   "source": [
    "df.head()"
   ]
  },
  {
   "cell_type": "code",
   "execution_count": null,
   "metadata": {
    "colab": {
     "base_uri": "https://localhost:8080/"
    },
    "executionInfo": {
     "elapsed": 1315,
     "status": "ok",
     "timestamp": 1689300699752,
     "user": {
      "displayName": "NIRAJAN BEKOJU",
      "userId": "11594644661999833156"
     },
     "user_tz": -345
    },
    "id": "OAcK32wsKtmD",
    "outputId": "b9a005da-63c1-4fbf-d46e-4af686dcfe3a"
   },
   "outputs": [],
   "source": [
    "df.categories.nunique()"
   ]
  },
  {
   "cell_type": "code",
   "execution_count": null,
   "metadata": {
    "colab": {
     "base_uri": "https://localhost:8080/"
    },
    "executionInfo": {
     "elapsed": 1950,
     "status": "ok",
     "timestamp": 1689300763576,
     "user": {
      "displayName": "NIRAJAN BEKOJU",
      "userId": "11594644661999833156"
     },
     "user_tz": -345
    },
    "id": "0m7RAUNKKwEZ",
    "outputId": "f72d871f-3905-4f4e-9e4a-d948d5db6da3"
   },
   "outputs": [],
   "source": [
    "categories = df[\"categories\"].tolist()\n",
    "\n",
    "# Getting all unique categories by flattening the 'categories' column\n",
    "# and creating a set out of the resultant list.\n",
    "unique_categories = {}\n",
    "for row in categories:\n",
    "    for category in row:\n",
    "        unique_categories[category] = unique_categories.get(category, 0) + 1\n",
    "\n",
    "print(f\"Num. unique categories: {len(unique_categories)}\")"
   ]
  },
  {
   "cell_type": "code",
   "execution_count": null,
   "metadata": {
    "colab": {
     "base_uri": "https://localhost:8080/"
    },
    "executionInfo": {
     "elapsed": 9,
     "status": "ok",
     "timestamp": 1689300840328,
     "user": {
      "displayName": "NIRAJAN BEKOJU",
      "userId": "11594644661999833156"
     },
     "user_tz": -345
    },
    "id": "8aCQv7vwLB0H",
    "outputId": "ac3b5c3a-8ddc-4941-b620-1dd87fa67bba"
   },
   "outputs": [],
   "source": [
    "print(df.abstract[0])"
   ]
  },
  {
   "cell_type": "code",
   "execution_count": null,
   "metadata": {
    "colab": {
     "base_uri": "https://localhost:8080/"
    },
    "executionInfo": {
     "elapsed": 431,
     "status": "ok",
     "timestamp": 1689301230010,
     "user": {
      "displayName": "NIRAJAN BEKOJU",
      "userId": "11594644661999833156"
     },
     "user_tz": -345
    },
    "id": "J8xryP-oL7zm",
    "outputId": "ec392481-1d37-48d9-dfb0-d601be5bae07"
   },
   "outputs": [],
   "source": [
    "# Since we are going to use only abstract and title, and categories for training, we are going to concatenate title and abstract and drop other columns\n",
    "NUM = 1000\n",
    "text = df.title[NUM] + df.abstract[NUM]\n",
    "print(df.title[NUM])\n",
    "print()\n",
    "print(df.abstract[NUM])\n",
    "print()\n",
    "print(text)"
   ]
  },
  {
   "cell_type": "code",
   "execution_count": null,
   "metadata": {
    "executionInfo": {
     "elapsed": 10584,
     "status": "ok",
     "timestamp": 1689301253640,
     "user": {
      "displayName": "NIRAJAN BEKOJU",
      "userId": "11594644661999833156"
     },
     "user_tz": -345
    },
    "id": "GGULQlhFMyVg"
   },
   "outputs": [],
   "source": [
    "df[\"text\"] = df.title + df.abstract"
   ]
  },
  {
   "cell_type": "code",
   "execution_count": null,
   "metadata": {
    "colab": {
     "base_uri": "https://localhost:8080/",
     "height": 250
    },
    "executionInfo": {
     "elapsed": 473,
     "status": "ok",
     "timestamp": 1689301265256,
     "user": {
      "displayName": "NIRAJAN BEKOJU",
      "userId": "11594644661999833156"
     },
     "user_tz": -345
    },
    "id": "GI-RHKIRM5Yu",
    "outputId": "7cdac2ed-5f38-496f-be08-f81c0ca19d0d"
   },
   "outputs": [],
   "source": [
    "df.head()"
   ]
  },
  {
   "cell_type": "code",
   "execution_count": null,
   "metadata": {
    "executionInfo": {
     "elapsed": 1414,
     "status": "ok",
     "timestamp": 1689301370997,
     "user": {
      "displayName": "NIRAJAN BEKOJU",
      "userId": "11594644661999833156"
     },
     "user_tz": -345
    },
    "id": "ELpnxLOwM7dn"
   },
   "outputs": [],
   "source": [
    "df.drop([\"title\", \"abstract\", \"authors\", \"date\", \"num_categories\"], axis = 1, inplace = True)"
   ]
  },
  {
   "cell_type": "code",
   "execution_count": null,
   "metadata": {
    "colab": {
     "base_uri": "https://localhost:8080/",
     "height": 206
    },
    "executionInfo": {
     "elapsed": 15,
     "status": "ok",
     "timestamp": 1689301373560,
     "user": {
      "displayName": "NIRAJAN BEKOJU",
      "userId": "11594644661999833156"
     },
     "user_tz": -345
    },
    "id": "q3YkPRJxNMS1",
    "outputId": "610ddc0b-56f8-46a5-8b9d-efebb512f473"
   },
   "outputs": [],
   "source": [
    "df.head()"
   ]
  },
  {
   "cell_type": "code",
   "execution_count": null,
   "metadata": {
    "executionInfo": {
     "elapsed": 122302,
     "status": "ok",
     "timestamp": 1689301555243,
     "user": {
      "displayName": "NIRAJAN BEKOJU",
      "userId": "11594644661999833156"
     },
     "user_tz": -345
    },
    "id": "eV2QRXfxNWTk"
   },
   "outputs": [],
   "source": [
    "df.to_csv(FILE_PATH + \"training_data_for_preprocessing.csv\")"
   ]
  },
  {
   "cell_type": "markdown",
   "metadata": {
    "id": "dBck_Tj1OdW7"
   },
   "source": [
    "## Preprocessing"
   ]
  },
  {
   "cell_type": "code",
   "execution_count": 4,
   "metadata": {
    "executionInfo": {
     "elapsed": 40753,
     "status": "ok",
     "timestamp": 1689301746296,
     "user": {
      "displayName": "NIRAJAN BEKOJU",
      "userId": "11594644661999833156"
     },
     "user_tz": -345
    },
    "id": "qtNBvu3uOhjw"
   },
   "outputs": [],
   "source": [
    "df = pd.read_csv(FILE_PATH + \"training_data_for_preprocessing.csv\")"
   ]
  },
  {
   "cell_type": "code",
   "execution_count": 5,
   "metadata": {},
   "outputs": [
    {
     "data": {
      "text/html": [
       "<div>\n",
       "<style scoped>\n",
       "    .dataframe tbody tr th:only-of-type {\n",
       "        vertical-align: middle;\n",
       "    }\n",
       "\n",
       "    .dataframe tbody tr th {\n",
       "        vertical-align: top;\n",
       "    }\n",
       "\n",
       "    .dataframe thead th {\n",
       "        text-align: right;\n",
       "    }\n",
       "</style>\n",
       "<table border=\"1\" class=\"dataframe\">\n",
       "  <thead>\n",
       "    <tr style=\"text-align: right;\">\n",
       "      <th></th>\n",
       "      <th>Unnamed: 0</th>\n",
       "      <th>categories</th>\n",
       "      <th>text</th>\n",
       "    </tr>\n",
       "  </thead>\n",
       "  <tbody>\n",
       "    <tr>\n",
       "      <th>0</th>\n",
       "      <td>0</td>\n",
       "      <td>hep-ph</td>\n",
       "      <td>Calculation of prompt diphoton production cros...</td>\n",
       "    </tr>\n",
       "    <tr>\n",
       "      <th>1</th>\n",
       "      <td>1</td>\n",
       "      <td>math.CO cs.CG</td>\n",
       "      <td>Sparsity-certifying Graph Decompositions  We d...</td>\n",
       "    </tr>\n",
       "    <tr>\n",
       "      <th>2</th>\n",
       "      <td>2</td>\n",
       "      <td>physics.gen-ph</td>\n",
       "      <td>The evolution of the Earth-Moon system based o...</td>\n",
       "    </tr>\n",
       "    <tr>\n",
       "      <th>3</th>\n",
       "      <td>3</td>\n",
       "      <td>math.CO</td>\n",
       "      <td>A determinant of Stirling cycle numbers counts...</td>\n",
       "    </tr>\n",
       "    <tr>\n",
       "      <th>4</th>\n",
       "      <td>4</td>\n",
       "      <td>math.CA math.FA</td>\n",
       "      <td>From dyadic $\\Lambda_{\\alpha}$ to $\\Lambda_{\\a...</td>\n",
       "    </tr>\n",
       "  </tbody>\n",
       "</table>\n",
       "</div>"
      ],
      "text/plain": [
       "   Unnamed: 0       categories   \n",
       "0           0           hep-ph  \\\n",
       "1           1    math.CO cs.CG   \n",
       "2           2   physics.gen-ph   \n",
       "3           3          math.CO   \n",
       "4           4  math.CA math.FA   \n",
       "\n",
       "                                                text  \n",
       "0  Calculation of prompt diphoton production cros...  \n",
       "1  Sparsity-certifying Graph Decompositions  We d...  \n",
       "2  The evolution of the Earth-Moon system based o...  \n",
       "3  A determinant of Stirling cycle numbers counts...  \n",
       "4  From dyadic $\\Lambda_{\\alpha}$ to $\\Lambda_{\\a...  "
      ]
     },
     "execution_count": 5,
     "metadata": {},
     "output_type": "execute_result"
    }
   ],
   "source": [
    "df.head()"
   ]
  },
  {
   "cell_type": "code",
   "execution_count": 6,
   "metadata": {
    "executionInfo": {
     "elapsed": 421,
     "status": "ok",
     "timestamp": 1689301938079,
     "user": {
      "displayName": "NIRAJAN BEKOJU",
      "userId": "11594644661999833156"
     },
     "user_tz": -345
    },
    "id": "DSIIsa2-O9BW"
   },
   "outputs": [],
   "source": [
    "df.drop([\"Unnamed: 0\"], axis = 1, inplace = True)"
   ]
  },
  {
   "cell_type": "code",
   "execution_count": 7,
   "metadata": {
    "colab": {
     "base_uri": "https://localhost:8080/",
     "height": 206
    },
    "executionInfo": {
     "elapsed": 449,
     "status": "ok",
     "timestamp": 1689301940957,
     "user": {
      "displayName": "NIRAJAN BEKOJU",
      "userId": "11594644661999833156"
     },
     "user_tz": -345
    },
    "id": "nhN2AEilOy1I",
    "outputId": "b905a9a2-2124-4a79-a221-7edae760140b"
   },
   "outputs": [
    {
     "data": {
      "text/html": [
       "<div>\n",
       "<style scoped>\n",
       "    .dataframe tbody tr th:only-of-type {\n",
       "        vertical-align: middle;\n",
       "    }\n",
       "\n",
       "    .dataframe tbody tr th {\n",
       "        vertical-align: top;\n",
       "    }\n",
       "\n",
       "    .dataframe thead th {\n",
       "        text-align: right;\n",
       "    }\n",
       "</style>\n",
       "<table border=\"1\" class=\"dataframe\">\n",
       "  <thead>\n",
       "    <tr style=\"text-align: right;\">\n",
       "      <th></th>\n",
       "      <th>categories</th>\n",
       "      <th>text</th>\n",
       "    </tr>\n",
       "  </thead>\n",
       "  <tbody>\n",
       "    <tr>\n",
       "      <th>0</th>\n",
       "      <td>hep-ph</td>\n",
       "      <td>Calculation of prompt diphoton production cros...</td>\n",
       "    </tr>\n",
       "    <tr>\n",
       "      <th>1</th>\n",
       "      <td>math.CO cs.CG</td>\n",
       "      <td>Sparsity-certifying Graph Decompositions  We d...</td>\n",
       "    </tr>\n",
       "    <tr>\n",
       "      <th>2</th>\n",
       "      <td>physics.gen-ph</td>\n",
       "      <td>The evolution of the Earth-Moon system based o...</td>\n",
       "    </tr>\n",
       "    <tr>\n",
       "      <th>3</th>\n",
       "      <td>math.CO</td>\n",
       "      <td>A determinant of Stirling cycle numbers counts...</td>\n",
       "    </tr>\n",
       "    <tr>\n",
       "      <th>4</th>\n",
       "      <td>math.CA math.FA</td>\n",
       "      <td>From dyadic $\\Lambda_{\\alpha}$ to $\\Lambda_{\\a...</td>\n",
       "    </tr>\n",
       "  </tbody>\n",
       "</table>\n",
       "</div>"
      ],
      "text/plain": [
       "        categories                                               text\n",
       "0           hep-ph  Calculation of prompt diphoton production cros...\n",
       "1    math.CO cs.CG  Sparsity-certifying Graph Decompositions  We d...\n",
       "2   physics.gen-ph  The evolution of the Earth-Moon system based o...\n",
       "3          math.CO  A determinant of Stirling cycle numbers counts...\n",
       "4  math.CA math.FA  From dyadic $\\Lambda_{\\alpha}$ to $\\Lambda_{\\a..."
      ]
     },
     "execution_count": 7,
     "metadata": {},
     "output_type": "execute_result"
    }
   ],
   "source": [
    "df.head()"
   ]
  },
  {
   "cell_type": "code",
   "execution_count": 15,
   "metadata": {
    "colab": {
     "base_uri": "https://localhost:8080/"
    },
    "executionInfo": {
     "elapsed": 10,
     "status": "ok",
     "timestamp": 1689302501878,
     "user": {
      "displayName": "NIRAJAN BEKOJU",
      "userId": "11594644661999833156"
     },
     "user_tz": -345
    },
    "id": "Cyo4lT68Pg3b",
    "outputId": "e1d9cd0b-8be4-44fb-9a6a-3dfa04381809"
   },
   "outputs": [
    {
     "name": "stdout",
     "output_type": "stream",
     "text": [
      "sparsitycertifi graph decomposit describ new algorithm kellpebbl game color use obtain character famili kellspars graph algorithm solut famili problem concern tree decomposit graph special instanc spars graph appear rigid theori receiv increas attent recent year particular color pebbl gener strengthen previou result lee streinu give new proof tuttenashwilliam character arbor also present new decomposit certifi sparsiti base kellpebbl game color work also expos connect pebbl game algorithm previou spars graph algorithm gabow gabow westermann hendrickson\n"
     ]
    }
   ],
   "source": [
    "print(df.text[1])"
   ]
  },
  {
   "cell_type": "code",
   "execution_count": 22,
   "metadata": {
    "colab": {
     "base_uri": "https://localhost:8080/"
    },
    "id": "hxM-Bb8QLQSR",
    "outputId": "eeb11274-ccd3-4322-c46b-d9f01e8ed1bf"
   },
   "outputs": [
    {
     "name": "stderr",
     "output_type": "stream",
     "text": [
      "[nltk_data] Downloading package stopwords to\n",
      "[nltk_data]     /home/nirajan/nltk_data...\n",
      "[nltk_data]   Package stopwords is already up-to-date!\n"
     ]
    }
   ],
   "source": [
    "import nltk\n",
    "nltk.download(\"stopwords\")\n",
    "from nltk.stem import PorterStemmer\n",
    "ps = PorterStemmer()\n",
    "\n",
    "from nltk.corpus import stopwords\n",
    "stop_word_collection = stopwords.words('english')\n",
    "\n",
    "import string\n",
    "\n",
    "from tqdm import tqdm\n",
    "\n",
    "def text_preprocess(text, progress_bar):\n",
    "    # Update the progress bar\n",
    "    progress_bar.update(1)\n",
    "\n",
    "    # Replace all punctuation with white space\n",
    "    translator = str.maketrans(string.punctuation, ' ' * len(string.punctuation))\n",
    "    text = text.translate(translator)\n",
    "\n",
    "    # Remove all numbers and words containing numbers\n",
    "    text = re.sub(r'\\w*\\d\\w*', ' ', text).strip()\n",
    "\n",
    "    # Changes to lower case\n",
    "    text = text.lower()\n",
    "\n",
    "    # Remove all stop words\n",
    "    text = ' '. join(word for word in text.split() if word not in stop_word_collection)\n",
    "\n",
    "    # Stemming of all words\n",
    "    text = [ps.stem(word) for word in text.split()]\n",
    "    text = ' '.join(text)\n",
    "    return text"
   ]
  },
  {
   "cell_type": "code",
   "execution_count": 63,
   "metadata": {},
   "outputs": [
    {
     "data": {
      "text/plain": [
       "'Degeneration of globally hyperbolic maximal anti-de Sitter structures\\n  along rays  Using the parameterisation of the deformation space of GHMC anti-de Sitter\\nstructures on $S \\\\times \\\\mathbb{R}$ by the cotangent bundle of the\\nTeichm\\\\\"uller space of $S$, we study how some geometric quantities, such as the\\nLorentzian Hausdorff dimension of the limit set, the width of the convex core\\nand the H\\\\\"older exponent, degenerate along rays of quadratic differentials.\\n'"
      ]
     },
     "execution_count": 63,
     "metadata": {},
     "output_type": "execute_result"
    }
   ],
   "source": [
    "df.text[900_000]"
   ]
  },
  {
   "cell_type": "code",
   "execution_count": 64,
   "metadata": {},
   "outputs": [
    {
     "name": "stderr",
     "output_type": "stream",
     "text": [
      "100%|██████████████████████████████████| 100000/100000 [03:19<00:00, 502.47it/s]\n"
     ]
    }
   ],
   "source": [
    "progress_bar = tqdm(total=100_000)\n",
    "\n",
    "NUM = 9\n",
    "df.text[NUM*100_000: NUM*100_000 + 100_000] = df.text[NUM*100_000: NUM*100_000 + 100_000] \\\n",
    "                                                .apply(text_preprocess, args=(progress_bar,))\n",
    "# Close the progress bar\n",
    "progress_bar.close()"
   ]
  },
  {
   "cell_type": "code",
   "execution_count": 65,
   "metadata": {},
   "outputs": [
    {
     "name": "stdout",
     "output_type": "stream",
     "text": [
      "degener global hyperbol maxim anti de sitter structur along ray use parameteris deform space ghmc anti de sitter structur time mathbb r cotang bundl teichm uller space studi geometr quantiti lorentzian hausdorff dimens limit set width convex core h older expon degener along ray quadrat differenti\n"
     ]
    }
   ],
   "source": [
    "print(df.text[900_000])"
   ]
  },
  {
   "cell_type": "code",
   "execution_count": 66,
   "metadata": {},
   "outputs": [],
   "source": [
    "df.to_csv(\"preprocessed_csv.csv\", index = False)"
   ]
  },
  {
   "cell_type": "markdown",
   "metadata": {},
   "source": [
    "## First 1 million data"
   ]
  },
  {
   "cell_type": "code",
   "execution_count": 3,
   "metadata": {},
   "outputs": [],
   "source": [
    "data = pd.read_csv(\"preprocessed_csv.csv\")"
   ]
  },
  {
   "cell_type": "code",
   "execution_count": 4,
   "metadata": {},
   "outputs": [
    {
     "data": {
      "text/html": [
       "<div>\n",
       "<style scoped>\n",
       "    .dataframe tbody tr th:only-of-type {\n",
       "        vertical-align: middle;\n",
       "    }\n",
       "\n",
       "    .dataframe tbody tr th {\n",
       "        vertical-align: top;\n",
       "    }\n",
       "\n",
       "    .dataframe thead th {\n",
       "        text-align: right;\n",
       "    }\n",
       "</style>\n",
       "<table border=\"1\" class=\"dataframe\">\n",
       "  <thead>\n",
       "    <tr style=\"text-align: right;\">\n",
       "      <th></th>\n",
       "      <th>categories</th>\n",
       "      <th>text</th>\n",
       "    </tr>\n",
       "  </thead>\n",
       "  <tbody>\n",
       "    <tr>\n",
       "      <th>0</th>\n",
       "      <td>hep-ph</td>\n",
       "      <td>calcul prompt diphoton product cross section t...</td>\n",
       "    </tr>\n",
       "    <tr>\n",
       "      <th>1</th>\n",
       "      <td>math.CO cs.CG</td>\n",
       "      <td>sparsitycertifi graph decomposit describ new a...</td>\n",
       "    </tr>\n",
       "    <tr>\n",
       "      <th>2</th>\n",
       "      <td>physics.gen-ph</td>\n",
       "      <td>evolut earthmoon system base dark matter field...</td>\n",
       "    </tr>\n",
       "    <tr>\n",
       "      <th>3</th>\n",
       "      <td>math.CO</td>\n",
       "      <td>determin stirl cycl number count unlabel acycl...</td>\n",
       "    </tr>\n",
       "    <tr>\n",
       "      <th>4</th>\n",
       "      <td>math.CA math.FA</td>\n",
       "      <td>dyadic lambdaalpha lambdaalpha paper show comp...</td>\n",
       "    </tr>\n",
       "  </tbody>\n",
       "</table>\n",
       "</div>"
      ],
      "text/plain": [
       "        categories                                               text\n",
       "0           hep-ph  calcul prompt diphoton product cross section t...\n",
       "1    math.CO cs.CG  sparsitycertifi graph decomposit describ new a...\n",
       "2   physics.gen-ph  evolut earthmoon system base dark matter field...\n",
       "3          math.CO  determin stirl cycl number count unlabel acycl...\n",
       "4  math.CA math.FA  dyadic lambdaalpha lambdaalpha paper show comp..."
      ]
     },
     "execution_count": 4,
     "metadata": {},
     "output_type": "execute_result"
    }
   ],
   "source": [
    "data.head()"
   ]
  },
  {
   "cell_type": "code",
   "execution_count": 5,
   "metadata": {},
   "outputs": [
    {
     "name": "stdout",
     "output_type": "stream",
     "text": [
      "<class 'pandas.core.frame.DataFrame'>\n",
      "RangeIndex: 2276449 entries, 0 to 2276448\n",
      "Data columns (total 2 columns):\n",
      " #   Column      Dtype \n",
      "---  ------      ----- \n",
      " 0   categories  object\n",
      " 1   text        object\n",
      "dtypes: object(2)\n",
      "memory usage: 34.7+ MB\n"
     ]
    }
   ],
   "source": [
    "data.info()"
   ]
  },
  {
   "cell_type": "code",
   "execution_count": 6,
   "metadata": {},
   "outputs": [
    {
     "data": {
      "text/plain": [
       "'proactiv intervent downtrend employe attrit use artifici intellig techniqu predict employe attrit beforehand enabl manag take individu prevent action use ensembl classif model techniqu linear regress model could predict accur employe predict lead time separ individu reason caus attrit prior intim employe attrit enabl manag take prevent action retain employe manag busi consequ attrit deploy model help downtrend employe attrit help manag manag team effect model cover natur calam unforeseen event occur individu level like accid death etc'"
      ]
     },
     "execution_count": 6,
     "metadata": {},
     "output_type": "execute_result"
    }
   ],
   "source": [
    "data.iloc[999_999].text"
   ]
  },
  {
   "cell_type": "code",
   "execution_count": 7,
   "metadata": {},
   "outputs": [
    {
     "data": {
      "text/plain": [
       "'Random motion on finite rings, II: Noncommutative rings  We extend our previous study of Markov chains on finite commutative rings\\n(arXiv:1605.05089) to arbitrary finite rings with identity. At each step, we\\neither add or multiply by a randomly chosen element of the ring, where the\\naddition (resp. multiplication) distribution is uniform (resp. conjugacy\\ninvariant). We prove explicit formulas for some of the eigenvalues of the\\ntransition matrix and give lower bounds on their multiplicities. We also give\\nrecursive formulas for the stationary distribution and prove that the mixing\\ntime is bounded by an absolute constant. For the matrix rings $M_2(\\\\mathbb\\nF_q),$ we compute the entire spectrum explicitly using the representation\\ntheory of $\\\\text{GL}_2(\\\\mathbb F_q),$ as well as the stationary probabilities.\\n'"
      ]
     },
     "execution_count": 7,
     "metadata": {},
     "output_type": "execute_result"
    }
   ],
   "source": [
    "data.iloc[1_000_000].text"
   ]
  },
  {
   "cell_type": "code",
   "execution_count": 8,
   "metadata": {},
   "outputs": [],
   "source": [
    "sample_data = data.iloc[0:999_999]"
   ]
  },
  {
   "cell_type": "code",
   "execution_count": 9,
   "metadata": {},
   "outputs": [
    {
     "name": "stdout",
     "output_type": "stream",
     "text": [
      "<class 'pandas.core.frame.DataFrame'>\n",
      "RangeIndex: 999999 entries, 0 to 999998\n",
      "Data columns (total 2 columns):\n",
      " #   Column      Non-Null Count   Dtype \n",
      "---  ------      --------------   ----- \n",
      " 0   categories  999999 non-null  object\n",
      " 1   text        999999 non-null  object\n",
      "dtypes: object(2)\n",
      "memory usage: 15.3+ MB\n"
     ]
    }
   ],
   "source": [
    "sample_data.info()"
   ]
  },
  {
   "cell_type": "code",
   "execution_count": 10,
   "metadata": {},
   "outputs": [
    {
     "data": {
      "text/plain": [
       "0         calcul prompt diphoton product cross section t...\n",
       "1         sparsitycertifi graph decomposit describ new a...\n",
       "2         evolut earthmoon system base dark matter field...\n",
       "3         determin stirl cycl number count unlabel acycl...\n",
       "4         dyadic lambdaalpha lambdaalpha paper show comp...\n",
       "                                ...                        \n",
       "999994    dynam coupl dilut magnet impur quantum spin li...\n",
       "999995    recognis cardiac abnorm wearabl devic photople...\n",
       "999996    evolut skyrmion crystal fe co si like quasi tw...\n",
       "999997    benedick amrein berthier type theorem relat tw...\n",
       "999998    constraint scalar tensor model gauss bonnet co...\n",
       "Name: text, Length: 999999, dtype: object"
      ]
     },
     "execution_count": 10,
     "metadata": {},
     "output_type": "execute_result"
    }
   ],
   "source": [
    "sample_data.text"
   ]
  },
  {
   "cell_type": "code",
   "execution_count": 11,
   "metadata": {},
   "outputs": [],
   "source": [
    "sample_data.to_csv(\"first 1 million.csv\", index = False)"
   ]
  },
  {
   "cell_type": "code",
   "execution_count": null,
   "metadata": {},
   "outputs": [],
   "source": []
  }
 ],
 "metadata": {
  "colab": {
   "authorship_tag": "ABX9TyNAlzN8Bbx4Qn3DtYZ5mJJu",
   "provenance": []
  },
  "kernelspec": {
   "display_name": "Python 3 (ipykernel)",
   "language": "python",
   "name": "python3"
  },
  "language_info": {
   "codemirror_mode": {
    "name": "ipython",
    "version": 3
   },
   "file_extension": ".py",
   "mimetype": "text/x-python",
   "name": "python",
   "nbconvert_exporter": "python",
   "pygments_lexer": "ipython3",
   "version": "3.7.16"
  }
 },
 "nbformat": 4,
 "nbformat_minor": 1
}
